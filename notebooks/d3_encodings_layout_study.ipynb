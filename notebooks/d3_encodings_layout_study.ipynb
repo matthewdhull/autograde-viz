{
 "cells": [
  {
   "cell_type": "markdown",
   "metadata": {},
   "source": [
    "<div class=\"alert alert-block alert-info\">\n",
    "\n",
    "# D3 Layout Study - Part 2\n",
    "This notebook is the second in a series of notebooks intended to:\n",
    "1. Demonstrate the use and relationships of layout with respect to margins, and scaling and positioning in a D3 visualization\n",
    "2. Study how the the D3 visualization components can be extracted using Seleniums python API\n",
    "\n",
    "### Use\n",
    "Before running the cells in this notebook, start a local server on `port=3000` in the `viz/` directory \n",
    "\n",
    "_e.g.,_ `python3 -m http.server 3000 &`\n",
    "\n",
    "### D3 Examples\n",
    "All example D3 visualizations are located in the `viz/` directory.\n",
    "</div>"
   ]
  },
  {
   "cell_type": "code",
   "execution_count": 8,
   "metadata": {},
   "outputs": [],
   "source": [
    "from selenium import webdriver\n",
    "import numpy as np\n",
    "import pandas as pd"
   ]
  },
  {
   "cell_type": "markdown",
   "metadata": {},
   "source": [
    "## Render Page\n",
    "\n",
    "<div class=\"alert alert-block alert-info\">\n",
    "* for this section, study the source under `viz/visual_encodings_position_study.html`\n",
    "</div>\n",
    "\n",
    "Insantiate a Chrome webdriver and load the page. Adjust the window size of the webdriver to be the size of the rendered page to avoid clipping content from view."
   ]
  },
  {
   "cell_type": "code",
   "execution_count": 2,
   "metadata": {},
   "outputs": [],
   "source": [
    "chrome_options = webdriver.ChromeOptions()\n",
    "chrome_options.add_argument('--no-sandbox')\n",
    "chrome_options.add_argument('--headless')\n",
    "chrome_options.add_argument('--disable-gpu')\n",
    "driver = webdriver.Chrome(\n",
    "    executable_path=\"../bin/chromedriver\",\n",
    "    options=chrome_options)\n",
    "url = 'http://localhost:3000/visual_encodings_position_study.html'\n",
    "driver.get(url)  # must be running a localserver in the viz/ dir\n",
    "rendered_width = driver.execute_script(\"return document.documentElement.scrollWidth\")\n",
    "rendered_height = driver.execute_script(\"return document.documentElement.scrollHeight\")\n",
    "driver.set_window_size(rendered_width,rendered_height)"
   ]
  },
  {
   "cell_type": "code",
   "execution_count": null,
   "metadata": {},
   "outputs": [],
   "source": []
  }
 ],
 "metadata": {
  "interpreter": {
   "hash": "a1cfbec01b08922e9e9c5081e9fa930abff58a75d08ace2a3d2e2b21786557c2"
  },
  "kernelspec": {
   "display_name": "Python 3 (ipykernel)",
   "language": "python",
   "name": "python3"
  },
  "language_info": {
   "codemirror_mode": {
    "name": "ipython",
    "version": 3
   },
   "file_extension": ".py",
   "mimetype": "text/x-python",
   "name": "python",
   "nbconvert_exporter": "python",
   "pygments_lexer": "ipython3",
   "version": "3.7.4"
  }
 },
 "nbformat": 4,
 "nbformat_minor": 2
}
