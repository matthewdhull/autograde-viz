{
 "cells": [
  {
   "cell_type": "code",
   "execution_count": 43,
   "metadata": {},
   "outputs": [],
   "source": [
    "from selenium import webdriver    "
   ]
  },
  {
   "cell_type": "markdown",
   "metadata": {},
   "source": [
    "Insantiate a Chrome webdriver and load the page. Adjust the window size of the webdriver to be the size of the rendered page to avoid clipping content from view."
   ]
  },
  {
   "cell_type": "code",
   "execution_count": 44,
   "metadata": {},
   "outputs": [
    {
     "name": "stdout",
     "output_type": "stream",
     "text": [
      "window dims H:600 X W:810\n"
     ]
    }
   ],
   "source": [
    "chrome_options = webdriver.ChromeOptions()\n",
    "chrome_options.add_argument('--no-sandbox')\n",
    "chrome_options.add_argument('--headless')\n",
    "chrome_options.add_argument('--disable-gpu')\n",
    "driver = webdriver.Chrome(\n",
    "    executable_path=\"../bin/chromedriver\",\n",
    "    options=chrome_options)\n",
    "url = 'http://localhost:3000/margins.html'\n",
    "driver.get(url)  # must be running a localserver in the viz/ dir\n",
    "rendered_width = driver.execute_script(\"return document.documentElement.scrollWidth\")\n",
    "rendered_height = driver.execute_script(\"return document.documentElement.scrollHeight\")\n",
    "driver.set_window_size(rendered_width,rendered_height)\n",
    "print(f\"window dims H:{rendered_height} X W:{rendered_width}\")   "
   ]
  },
  {
   "cell_type": "markdown",
   "metadata": {},
   "source": [
    "Using the ['margin convention'](https://observablehq.com/@d3/margin-convention), the plot dimensions and margins are stored in an object.\n",
    "```\n",
    "var margin = { top: 20, right: 20, bottom: 100, left: 80 },\n",
    "width = 800 - margin.left - margin.right,\n",
    "height = 400 - margin.top - margin.bottom;\n",
    "```\n",
    "The svg is scaled to the `width` + the left and right margins and `width` + the top and bottom margins:\n",
    "```\n",
    "var svg = d3.select(\"body\")\n",
    "    .append(\"svg\")\n",
    "    .attr(\"id\", \"container\")\n",
    "    .attr(\"width\", width + margin.left + margin.right)\n",
    "    .attr(\"height\", height + margin.bottom + margin.top);\n",
    "```\n",
    "(The retrieved dimensions of the `svg` account for a 1 px border)"
   ]
  },
  {
   "cell_type": "code",
   "execution_count": 45,
   "metadata": {},
   "outputs": [
    {
     "name": "stdout",
     "output_type": "stream",
     "text": [
      "source: <svg id=\"container\" width=\"800\" height=\"400\"><circle id=\"origin\" cx=\"0\" cy=\"0\" r=\"5\" fill=\"black\"></circle><g id=\"plot\" transform=\"translate(20,80)\"></g></svg>\n",
      "svg dims H:402 X W:802\n",
      "svg transform: none\n"
     ]
    }
   ],
   "source": [
    "svg = driver.find_element_by_id(\"container\")\n",
    "svg_src = svg.get_attribute(\"outerHTML\")\n",
    "svg_transform = svg.value_of_css_property(\"transform\")\n",
    "print(f\"source: {svg_src}\")\n",
    "print(f\"svg dims H:{svg.size['height']} X W:{svg.size['width']}\")\n",
    "print(f\"svg transform: {svg_transform}\")"
   ]
  },
  {
   "cell_type": "markdown",
   "metadata": {},
   "source": [
    "A grouping `g` element is used to hold the plot elements.  Since the origin is oriented at the top-left, this element is translated using the top and left margin values.\n",
    "```\n",
    "var plot = svg.append(\"g\")\n",
    "    .attr(\"id\",\"plot\")\n",
    "    .attr(\"transform\", \"translate(\"+margin.top+\",\"+margin.left+\")\");\n",
    "```\n",
    "The translation of the `g` element can be retrieved using a CSS `transform` lookup.  The last two values in the matrix represent the `xy` transform"
   ]
  },
  {
   "cell_type": "code",
   "execution_count": 46,
   "metadata": {},
   "outputs": [
    {
     "name": "stdout",
     "output_type": "stream",
     "text": [
      "source: <g id=\"plot\" transform=\"translate(20,80)\"></g>\n",
      "group dims H:0 X W:0\n",
      "group transform: matrix(1, 0, 0, 1, 20, 80)\n"
     ]
    }
   ],
   "source": [
    "g = driver.find_element_by_id(\"plot\")\n",
    "g_src = g.get_attribute(\"outerHTML\")\n",
    "g_transform = g.value_of_css_property(\"transform\")\n",
    "print(f\"source: {g_src}\")\n",
    "print(f\"group dims H:{g.size['height']} X W:{g.size['width']}\")\n",
    "print(f\"group transform: {g_transform}\")"
   ]
  },
  {
   "cell_type": "code",
   "execution_count": null,
   "metadata": {},
   "outputs": [],
   "source": []
  }
 ],
 "metadata": {
  "interpreter": {
   "hash": "a1cfbec01b08922e9e9c5081e9fa930abff58a75d08ace2a3d2e2b21786557c2"
  },
  "kernelspec": {
   "display_name": "Python 3.7.4 64-bit ('autograde-viz': conda)",
   "language": "python",
   "name": "python3"
  },
  "language_info": {
   "codemirror_mode": {
    "name": "ipython",
    "version": 3
   },
   "file_extension": ".py",
   "mimetype": "text/x-python",
   "name": "python",
   "nbconvert_exporter": "python",
   "pygments_lexer": "ipython3",
   "version": "3.7.4"
  },
  "orig_nbformat": 4
 },
 "nbformat": 4,
 "nbformat_minor": 2
}
