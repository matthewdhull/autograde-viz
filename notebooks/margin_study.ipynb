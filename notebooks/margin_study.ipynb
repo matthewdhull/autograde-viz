{
 "cells": [
  {
   "cell_type": "code",
   "execution_count": 1,
   "metadata": {},
   "outputs": [],
   "source": [
    "from selenium import webdriver"
   ]
  },
  {
   "cell_type": "markdown",
   "metadata": {},
   "source": [
    "## Render page and retrieve window size\n",
    "Insantiate a Chrome webdriver and load the page. Adjust the window size of the webdriver to be the size of the rendered page to avoid clipping content from view."
   ]
  },
  {
   "cell_type": "code",
   "execution_count": 2,
   "metadata": {},
   "outputs": [
    {
     "name": "stdout",
     "output_type": "stream",
     "text": [
      "window dims H:600 X W:810\n"
     ]
    }
   ],
   "source": [
    "chrome_options = webdriver.ChromeOptions()\n",
    "chrome_options.add_argument('--no-sandbox')\n",
    "chrome_options.add_argument('--headless')\n",
    "chrome_options.add_argument('--disable-gpu')\n",
    "driver = webdriver.Chrome(\n",
    "    executable_path=\"../bin/chromedriver\",\n",
    "    options=chrome_options)\n",
    "url = 'http://localhost:3000/margins.html'\n",
    "driver.get(url)  # must be running a localserver in the viz/ dir\n",
    "rendered_width = driver.execute_script(\"return document.documentElement.scrollWidth\")\n",
    "rendered_height = driver.execute_script(\"return document.documentElement.scrollHeight\")\n",
    "driver.set_window_size(rendered_width,rendered_height)\n",
    "print(f\"window dims H:{rendered_height} X W:{rendered_width}\")   "
   ]
  },
  {
   "cell_type": "markdown",
   "metadata": {},
   "source": [
    "## Plot size and margins\n",
    "The plot margins are stored in an object. Next, the width and height are declared in a way that we can conceptually think of them as the entire drawing area of the plot _minus_ the margins. \n",
    "\n",
    "This is known as the ['margin convention'](https://observablehq.com/@d3/margin-convention).\n",
    "```\n",
    "// .js code\n",
    "var margin = { top: 20, right: 20, bottom: 100, left: 80 },\n",
    "width = 800 - margin.left - margin.right,\n",
    "height = 400 - margin.top - margin.bottom;\n",
    "```"
   ]
  },
  {
   "cell_type": "markdown",
   "metadata": {},
   "source": [
    "## `svg` element\n",
    "The entire plot will be drawn within an `svg` elmement. This element is scaled to the `width=800` and `height=400`.  Notice again that we use the relationship of the width and height to the margins by adding them when we set the respective attributes.  \n",
    "\n",
    "This practice enables us to set the height & width margins according to our original size and margin specification in one location and then allows us to refer to it throughout the visualization without explicitly setting the values `800` and `400` _i.e.,_ avoid using \"magic numbers\".\n",
    "```\n",
    "// .js code\n",
    "var svg = d3.select(\"body\")\n",
    "    .append(\"svg\")\n",
    "    .attr(\"id\", \"container\")\n",
    "    .attr(\"width\", width + margin.left + margin.right)\n",
    "    .attr(\"height\", height + margin.bottom + margin.top);\n",
    "```\n",
    "(The retrieved dimensions of the `svg` account for a 1 px border)"
   ]
  },
  {
   "cell_type": "code",
   "execution_count": 3,
   "metadata": {},
   "outputs": [
    {
     "name": "stdout",
     "output_type": "stream",
     "text": [
      "svg dims H:402 X W:802\n",
      "svg transform: none\n"
     ]
    }
   ],
   "source": [
    "svg = driver.find_element_by_id(\"container\")\n",
    "svg_src = svg.get_attribute(\"outerHTML\")\n",
    "svg_transform = svg.value_of_css_property(\"transform\")\n",
    "print(f\"svg dims H:{svg.size['height']} X W:{svg.size['width']}\")\n",
    "print(f\"svg transform: {svg_transform}\")"
   ]
  },
  {
   "cell_type": "markdown",
   "metadata": {},
   "source": [
    "## `g` element layout and sizing\n",
    "A grouping `g` element is used to hold the plot elements.  Since the origin is oriented at the top-left, this element is translated using the top and left margin values.\n",
    "```\n",
    "// .js code\n",
    "var plot = svg.append(\"g\")\n",
    "    .attr(\"id\",\"plot\")\n",
    "    .attr(\"transform\", \"translate(\"+margin.left+\",\"+margin.top+\")\");\n",
    "```\n",
    "The translation of the `g` element can be retrieved using a CSS `transform` lookup.  The last two values in the matrix represent the `xy` transform."
   ]
  },
  {
   "cell_type": "code",
   "execution_count": 4,
   "metadata": {},
   "outputs": [
    {
     "name": "stdout",
     "output_type": "stream",
     "text": [
      "group transform: matrix(1, 0, 0, 1, 80, 20)\n"
     ]
    }
   ],
   "source": [
    "g = driver.find_element_by_id(\"plot\")\n",
    "g_transform = g.value_of_css_property(\"transform\")\n",
    "print(f\"group transform: {g_transform}\")"
   ]
  },
  {
   "cell_type": "markdown",
   "metadata": {},
   "source": [
    "To demonstrate the plot area within the `g` nested in the `svg`, we insert a `rect` element.\n",
    "```\n",
    "//.js code\n",
    "var plot_area = plot.append(\"rect\")\n",
    "    .attr(\"id\", \"plot_area\")\n",
    "    .attr(\"width\", width)\n",
    "    .attr(\"height\", height);\n",
    "```\n",
    "We use the webdriver to capture a screenshot of our viz area so far:"
   ]
  },
  {
   "cell_type": "code",
   "execution_count": 5,
   "metadata": {},
   "outputs": [],
   "source": [
    "driver.set_window_size(svg.size['width']+10,svg.size['height']+20)\n",
    "svg_coords = svg.location_once_scrolled_into_view \n",
    "driver.execute_script('window.scrollTo({}, {});'.format(svg_coords['x'], svg_coords['y']))\n",
    "driver.save_screenshot(\"img/svg.png\")\n",
    "driver.set_window_size(rendered_width, rendered_height)"
   ]
  },
  {
   "cell_type": "code",
   "execution_count": 2,
   "metadata": {},
   "outputs": [
    {
     "data": {
      "image/png": "[encoded data removed]",
      "text/plain": [
       "<Figure size 432x288 with 1 Axes>"
      ]
     },
     "metadata": {
      "needs_background": "light"
     },
     "output_type": "display_data"
    }
   ],
   "source": [
    "%matplotlib inline\n",
    "import matplotlib.pyplot as plt\n",
    "import matplotlib.image as mpimg    \n",
    "img = mpimg.imread('img/svg.png')\n",
    "fig, ax = plt.subplots()\n",
    "ax.set_axis_off()\n",
    "imgplot = plt.imshow(img)"
   ]
  },
  {
   "cell_type": "code",
   "execution_count": null,
   "metadata": {},
   "outputs": [],
   "source": []
  }
 ],
 "metadata": {
  "interpreter": {
   "hash": "a1cfbec01b08922e9e9c5081e9fa930abff58a75d08ace2a3d2e2b21786557c2"
  },
  "kernelspec": {
   "display_name": "Python 3",
   "language": "python",
   "name": "python3"
  },
  "language_info": {
   "codemirror_mode": {
    "name": "ipython",
    "version": 3
   },
   "file_extension": ".py",
   "mimetype": "text/x-python",
   "name": "python",
   "nbconvert_exporter": "python",
   "pygments_lexer": "ipython3",
   "version": "3.7.4"
  }
 },
 "nbformat": 4,
 "nbformat_minor": 2
}
